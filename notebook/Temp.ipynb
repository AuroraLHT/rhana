{
 "cells": [
  {
   "cell_type": "markdown",
   "metadata": {},
   "source": [
    "# Handle Random Stuffs"
   ]
  },
  {
   "cell_type": "code",
   "execution_count": 4,
   "metadata": {},
   "outputs": [
    {
     "name": "stdout",
     "output_type": "stream",
     "text": [
      "\u001b[0m\u001b[01;34mimage\u001b[0m/  index_old.csv\r\n"
     ]
    }
   ],
   "source": [
    "!ls ../data/unet/"
   ]
  },
  {
   "cell_type": "code",
   "execution_count": 3,
   "metadata": {},
   "outputs": [],
   "source": [
    "!mv ../data/unet/index.csv ../data/unet/index_old.csv"
   ]
  },
  {
   "cell_type": "code",
   "execution_count": 5,
   "metadata": {},
   "outputs": [],
   "source": [
    "import pandas as pd"
   ]
  },
  {
   "cell_type": "code",
   "execution_count": 6,
   "metadata": {},
   "outputs": [],
   "source": [
    "index_old = pd.read_csv(\"../data/unet/index_old.csv\")"
   ]
  },
  {
   "cell_type": "code",
   "execution_count": 7,
   "metadata": {},
   "outputs": [
    {
     "data": {
      "text/html": [
       "<div>\n",
       "<style scoped>\n",
       "    .dataframe tbody tr th:only-of-type {\n",
       "        vertical-align: middle;\n",
       "    }\n",
       "\n",
       "    .dataframe tbody tr th {\n",
       "        vertical-align: top;\n",
       "    }\n",
       "\n",
       "    .dataframe thead th {\n",
       "        text-align: right;\n",
       "    }\n",
       "</style>\n",
       "<table border=\"1\" class=\"dataframe\">\n",
       "  <thead>\n",
       "    <tr style=\"text-align: right;\">\n",
       "      <th></th>\n",
       "      <th>image_path</th>\n",
       "      <th>full_mask_spot</th>\n",
       "      <th>full_mask_stripe</th>\n",
       "      <th>crop_args</th>\n",
       "      <th>crop_path</th>\n",
       "      <th>crop_mask_spot</th>\n",
       "      <th>crop_mask_stripe</th>\n",
       "    </tr>\n",
       "  </thead>\n",
       "  <tbody>\n",
       "    <tr>\n",
       "      <th>0</th>\n",
       "      <td>data/RHEED/IT016/IT016-00000007807615095000-01...</td>\n",
       "      <td>9965 4 9971 2 9975 6 10765 4 10771 2 10775 6 1...</td>\n",
       "      <td>NaN</td>\n",
       "      <td>{\"db_x\": 368, \"db_y\": 44, \"offset\": 60, \"windo...</td>\n",
       "      <td>UNetMask_crop/image/IT016/IT016-00000007807615...</td>\n",
       "      <td>18207 4 18603 12 18649 7 19002 13 19048 9 1939...</td>\n",
       "      <td>8140 1 8536 5 8936 5 9335 7 9735 8 10135 8 105...</td>\n",
       "    </tr>\n",
       "    <tr>\n",
       "      <th>1</th>\n",
       "      <td>data/RHEED/IT016/IT016-00000007807615095000-01...</td>\n",
       "      <td>9965 4 9971 2 9975 6 10765 4 10771 2 10775 6 1...</td>\n",
       "      <td>NaN</td>\n",
       "      <td>{\"db_x\": 368, \"db_y\": 44, \"offset\": 60, \"windo...</td>\n",
       "      <td>UNetMask_crop/image/IT016/IT016-00000007807615...</td>\n",
       "      <td>18207 4 18603 12 18649 7 19002 13 19048 9 1939...</td>\n",
       "      <td>8140 1 8536 5 8936 5 9335 7 9735 8 10135 8 105...</td>\n",
       "    </tr>\n",
       "    <tr>\n",
       "      <th>2</th>\n",
       "      <td>data/RHEED/IT016/IT016-00000007808065154800-01...</td>\n",
       "      <td>9965 4 9971 2 9977 4 10765 4 10771 2 10777 4 1...</td>\n",
       "      <td>144327 2 145127 2</td>\n",
       "      <td>{\"db_x\": 368, \"db_y\": 44, \"offset\": 60, \"windo...</td>\n",
       "      <td>UNetMask_crop/image/IT016/IT016-00000007808065...</td>\n",
       "      <td>17807 2 17851 2 18205 7 18249 6 18603 11 18647...</td>\n",
       "      <td>10536 3 10936 5 11335 7 11735 7 12135 7 12535 ...</td>\n",
       "    </tr>\n",
       "    <tr>\n",
       "      <th>3</th>\n",
       "      <td>data/RHEED/IT016/IT016-00000007808515214600-01...</td>\n",
       "      <td>9961 4 9967 10 10761 4 10767 10 11560 18 12358...</td>\n",
       "      <td>144327 2 145127 2 145927 2 146727 2 147527 2</td>\n",
       "      <td>{\"db_x\": 368, \"db_y\": 44, \"offset\": 60, \"windo...</td>\n",
       "      <td>UNetMask_crop/image/IT016/IT016-00000007808515...</td>\n",
       "      <td>17807 4 18205 6 18251 2 18603 10 18647 9 19002...</td>\n",
       "      <td>9736 6 10136 6 10535 8 10935 8 11335 9 11735 9...</td>\n",
       "    </tr>\n",
       "    <tr>\n",
       "      <th>4</th>\n",
       "      <td>data/RHEED/IT016/IT016-00000007809115294300-01...</td>\n",
       "      <td>9965 4 9971 2 9977 4 10765 4 10771 2 10777 4 1...</td>\n",
       "      <td>144327 2 145127 2 265127 2 265927 2 266727 2 2...</td>\n",
       "      <td>{\"db_x\": 368, \"db_y\": 44, \"offset\": 60, \"windo...</td>\n",
       "      <td>UNetMask_crop/image/IT016/IT016-00000007809115...</td>\n",
       "      <td>17807 4 17850 2 18206 7 18249 5 18603 11 18648...</td>\n",
       "      <td>8135 3 8535 4 8935 6 9335 6 9735 7 10135 7 105...</td>\n",
       "    </tr>\n",
       "  </tbody>\n",
       "</table>\n",
       "</div>"
      ],
      "text/plain": [
       "                                          image_path  \\\n",
       "0  data/RHEED/IT016/IT016-00000007807615095000-01...   \n",
       "1  data/RHEED/IT016/IT016-00000007807615095000-01...   \n",
       "2  data/RHEED/IT016/IT016-00000007808065154800-01...   \n",
       "3  data/RHEED/IT016/IT016-00000007808515214600-01...   \n",
       "4  data/RHEED/IT016/IT016-00000007809115294300-01...   \n",
       "\n",
       "                                      full_mask_spot  \\\n",
       "0  9965 4 9971 2 9975 6 10765 4 10771 2 10775 6 1...   \n",
       "1  9965 4 9971 2 9975 6 10765 4 10771 2 10775 6 1...   \n",
       "2  9965 4 9971 2 9977 4 10765 4 10771 2 10777 4 1...   \n",
       "3  9961 4 9967 10 10761 4 10767 10 11560 18 12358...   \n",
       "4  9965 4 9971 2 9977 4 10765 4 10771 2 10777 4 1...   \n",
       "\n",
       "                                    full_mask_stripe  \\\n",
       "0                                                NaN   \n",
       "1                                                NaN   \n",
       "2                                  144327 2 145127 2   \n",
       "3       144327 2 145127 2 145927 2 146727 2 147527 2   \n",
       "4  144327 2 145127 2 265127 2 265927 2 266727 2 2...   \n",
       "\n",
       "                                           crop_args  \\\n",
       "0  {\"db_x\": 368, \"db_y\": 44, \"offset\": 60, \"windo...   \n",
       "1  {\"db_x\": 368, \"db_y\": 44, \"offset\": 60, \"windo...   \n",
       "2  {\"db_x\": 368, \"db_y\": 44, \"offset\": 60, \"windo...   \n",
       "3  {\"db_x\": 368, \"db_y\": 44, \"offset\": 60, \"windo...   \n",
       "4  {\"db_x\": 368, \"db_y\": 44, \"offset\": 60, \"windo...   \n",
       "\n",
       "                                           crop_path  \\\n",
       "0  UNetMask_crop/image/IT016/IT016-00000007807615...   \n",
       "1  UNetMask_crop/image/IT016/IT016-00000007807615...   \n",
       "2  UNetMask_crop/image/IT016/IT016-00000007808065...   \n",
       "3  UNetMask_crop/image/IT016/IT016-00000007808515...   \n",
       "4  UNetMask_crop/image/IT016/IT016-00000007809115...   \n",
       "\n",
       "                                      crop_mask_spot  \\\n",
       "0  18207 4 18603 12 18649 7 19002 13 19048 9 1939...   \n",
       "1  18207 4 18603 12 18649 7 19002 13 19048 9 1939...   \n",
       "2  17807 2 17851 2 18205 7 18249 6 18603 11 18647...   \n",
       "3  17807 4 18205 6 18251 2 18603 10 18647 9 19002...   \n",
       "4  17807 4 17850 2 18206 7 18249 5 18603 11 18648...   \n",
       "\n",
       "                                    crop_mask_stripe  \n",
       "0  8140 1 8536 5 8936 5 9335 7 9735 8 10135 8 105...  \n",
       "1  8140 1 8536 5 8936 5 9335 7 9735 8 10135 8 105...  \n",
       "2  10536 3 10936 5 11335 7 11735 7 12135 7 12535 ...  \n",
       "3  9736 6 10136 6 10535 8 10935 8 11335 9 11735 9...  \n",
       "4  8135 3 8535 4 8935 6 9335 6 9735 7 10135 7 105...  "
      ]
     },
     "execution_count": 7,
     "metadata": {},
     "output_type": "execute_result"
    }
   ],
   "source": [
    "index_old.head()"
   ]
  },
  {
   "cell_type": "code",
   "execution_count": 8,
   "metadata": {},
   "outputs": [],
   "source": [
    "from pathlib import Path"
   ]
  },
  {
   "cell_type": "code",
   "execution_count": 11,
   "metadata": {},
   "outputs": [
    {
     "data": {
      "text/plain": [
       "PosixPath('/home/aurora/rhana/notebook/../data/unet')"
      ]
     },
     "execution_count": 11,
     "metadata": {},
     "output_type": "execute_result"
    }
   ],
   "source": [
    "Path(\"../data/unet\").absolute()"
   ]
  },
  {
   "cell_type": "code",
   "execution_count": 12,
   "metadata": {},
   "outputs": [],
   "source": [
    "root = Path(\"/home/aurora/RHEED/\")"
   ]
  },
  {
   "cell_type": "code",
   "execution_count": null,
   "metadata": {},
   "outputs": [],
   "source": [
    "index_old.rename(columns={\"crop_mask_stripe\": \"crop_mask_streak\"})"
   ]
  }
 ],
 "metadata": {
  "kernelspec": {
   "display_name": "Python 3",
   "language": "python",
   "name": "python3"
  },
  "language_info": {
   "codemirror_mode": {
    "name": "ipython",
    "version": 3
   },
   "file_extension": ".py",
   "mimetype": "text/x-python",
   "name": "python",
   "nbconvert_exporter": "python",
   "pygments_lexer": "ipython3",
   "version": "3.8.3"
  },
  "toc": {
   "base_numbering": 1,
   "nav_menu": {},
   "number_sections": true,
   "sideBar": true,
   "skip_h1_title": false,
   "title_cell": "Table of Contents",
   "title_sidebar": "Contents",
   "toc_cell": false,
   "toc_position": {},
   "toc_section_display": true,
   "toc_window_display": false
  }
 },
 "nbformat": 4,
 "nbformat_minor": 2
}

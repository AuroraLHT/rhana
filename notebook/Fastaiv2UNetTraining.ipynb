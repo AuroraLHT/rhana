{
 "cells": [
  {
   "cell_type": "code",
   "execution_count": 1,
   "metadata": {},
   "outputs": [],
   "source": [
    "from fastai.data.all import *"
   ]
  },
  {
   "cell_type": "code",
   "execution_count": 2,
   "metadata": {},
   "outputs": [],
   "source": [
    "from fastai.vision.all import *"
   ]
  },
  {
   "cell_type": "code",
   "execution_count": 3,
   "metadata": {},
   "outputs": [],
   "source": [
    "from rhana.labeler.unet import *"
   ]
  },
  {
   "cell_type": "code",
   "execution_count": 4,
   "metadata": {},
   "outputs": [],
   "source": [
    "from skimage import io as skm_io"
   ]
  },
  {
   "cell_type": "code",
   "execution_count": 5,
   "metadata": {},
   "outputs": [],
   "source": [
    "import numpy as np"
   ]
  },
  {
   "cell_type": "code",
   "execution_count": 102,
   "metadata": {},
   "outputs": [],
   "source": [
    "import pdb"
   ]
  },
  {
   "cell_type": "markdown",
   "metadata": {},
   "source": [
    "# Fastai demo"
   ]
  },
  {
   "cell_type": "markdown",
   "metadata": {},
   "source": [
    "# Load Data"
   ]
  },
  {
   "cell_type": "code",
   "execution_count": 54,
   "metadata": {},
   "outputs": [],
   "source": [
    "training_data_folder = Path(\"../data/training_data\")"
   ]
  },
  {
   "cell_type": "code",
   "execution_count": 55,
   "metadata": {},
   "outputs": [
    {
     "name": "stdout",
     "output_type": "stream",
     "text": [
      "IT003  IT005  IT007  IT009  IT011  IT013  IT015  IT017\tsemantic_all.csv\n",
      "IT004  IT006  IT008  IT010  IT012  IT014  IT016  IT018\tsemantic_all_old.csv\n"
     ]
    }
   ],
   "source": [
    "!ls {training_data_folder}"
   ]
  },
  {
   "cell_type": "code",
   "execution_count": 56,
   "metadata": {},
   "outputs": [
    {
     "name": "stdout",
     "output_type": "stream",
     "text": [
      "\u001b[0m\u001b[01;36m../data/training_data\u001b[0m@\n"
     ]
    }
   ],
   "source": [
    "ls {training_data_folder}"
   ]
  },
  {
   "cell_type": "code",
   "execution_count": 72,
   "metadata": {},
   "outputs": [],
   "source": [
    "df = pd.read_csv(training_data_folder / \"semantic_all.csv\")"
   ]
  },
  {
   "cell_type": "code",
   "execution_count": 73,
   "metadata": {},
   "outputs": [
    {
     "data": {
      "text/html": [
       "<div>\n",
       "<style scoped>\n",
       "    .dataframe tbody tr th:only-of-type {\n",
       "        vertical-align: middle;\n",
       "    }\n",
       "\n",
       "    .dataframe tbody tr th {\n",
       "        vertical-align: top;\n",
       "    }\n",
       "\n",
       "    .dataframe thead th {\n",
       "        text-align: right;\n",
       "    }\n",
       "</style>\n",
       "<table border=\"1\" class=\"dataframe\">\n",
       "  <thead>\n",
       "    <tr style=\"text-align: right;\">\n",
       "      <th></th>\n",
       "      <th>EncodedPixels</th>\n",
       "      <th>Image</th>\n",
       "      <th>Label</th>\n",
       "    </tr>\n",
       "  </thead>\n",
       "  <tbody>\n",
       "    <tr>\n",
       "      <th>0</th>\n",
       "      <td>1003 7 1403 7 1806 1 12153 6 12552 8 12951 10 13351 11 13750 13 14150 13 14550 13 14951 11 15351 10 15751 10 16153 8 16553 7 17804 4 18203 6 18601 9 19001 10 19401 10 19801 10 20201 10 20601 9 21002 8 21402 8 21803 5 22203 4 24655 2 25050 9 25449 11 25849 12 26249 12 26648 14 27048 14 27449 12 27849 12 28249 11 28649 10 29053 4 37004 1 37007 1 37403 6 37802 9 38201 11 38601 11 39001 11 39401 12 39801 11 40202 9 40603 8 41005 4</td>\n",
       "      <td>IT013/IT013-00000002710866284600-0130.png</td>\n",
       "      <td>spot</td>\n",
       "    </tr>\n",
       "    <tr>\n",
       "      <th>1</th>\n",
       "      <td>1803 6 2203 6 2603 7 3003 7 3402 9 3802 9 4201 11 4601 11 5001 11 5401 11 5801 11 6201 11 6601 11 7001 11 7401 11 7801 11 8200 12 8600 12 9000 12 9400 12 9800 12 10200 12 10600 12 10655 2 11000 12 11055 2 11400 12 11455 2 11800 12 11855 3 12200 12 12255 3 12600 12 12655 3 13000 12 13053 5 13400 12 13453 5 13800 12 13853 5 14200 12 14253 5 14600 12 14653 5 15000 12 15053 6 15400 12 15453 5 15800 12 15853 5 16200 12 16255 3 16600 12 16655 3 17000 12 17055 3 17400 12 17455 2 17800 11 17855 2 18200 11 18255 3 18600 11 18655 2 19000 11 19055 2 19355 2 19400 11 19455 2 19755 2 19800 11 19856 1 2...</td>\n",
       "      <td>IT013/IT013-00000002710866284600-0130.png</td>\n",
       "      <td>stripe</td>\n",
       "    </tr>\n",
       "    <tr>\n",
       "      <th>2</th>\n",
       "      <td>11853 1 12148 2 12253 5 12548 3 12651 7 12948 3 13049 11 13348 3 13449 11 13748 3 13849 12 14150 1 14249 12 14649 12 15049 12 15449 12 15849 12 16251 9 16651 7 17055 1 19801 4 20198 8 20597 10 20996 12 21396 12 21796 13 22196 13 22595 14 22995 14 23396 13 23795 14 24196 12 24597 11 24996 1 24998 9 25399 8 25801 3</td>\n",
       "      <td>IT013/IT013-00000002519942717100-0130.png</td>\n",
       "      <td>spot</td>\n",
       "    </tr>\n",
       "    <tr>\n",
       "      <th>3</th>\n",
       "      <td>201 3 601 5 999 8 1053 4 1399 9 1452 5 1798 10 1851 7 2198 10 2251 8 2597 12 2651 8 2997 12 3051 9 3397 12 3450 10 3797 12 3850 10 4197 12 4249 11 4597 12 4649 11 4997 12 5049 11 5397 12 5449 11 5751 1 5797 12 5849 11 6151 2 6197 12 6249 11 6548 6 6597 12 6649 12 6948 6 6997 12 7049 12 7347 7 7397 12 7449 12 7747 7 7796 13 7849 12 8147 8 8196 13 8249 11 8547 8 8596 13 8649 12 8947 8 8996 13 9049 12 9347 8 9396 13 9449 12 9747 9 9796 13 9849 12 10147 9 10196 13 10249 11 10547 9 10596 13 10649 12 10947 9 10996 13 11049 12 11347 9 11396 13 11449 12 11747 9 11796 13 11849 12 12065 1 12147 9 12...</td>\n",
       "      <td>IT013/IT013-00000002519942717100-0130.png</td>\n",
       "      <td>stripe</td>\n",
       "    </tr>\n",
       "    <tr>\n",
       "      <th>4</th>\n",
       "      <td>1000 9 1399 10 1801 2 1805 3 2201 2 12553 2 12949 10 13349 11 13749 11 14149 11 14549 12 14949 12 15349 10 15750 8 16151 6 16551 4 18205 1 18602 4 19001 6 19401 5 19800 7 20200 7 20600 7 21001 5 21401 4 21801 4 22201 4 25049 9 25448 11 25847 12 26247 12 26647 13 27047 13 27447 12 27847 12 28247 12 28648 10 29049 8 29452 1 38599 8 38999 8 39398 11 39798 11 40198 11 40598 11 40999 10 41399 10 41799 8 42200 7 42602 2</td>\n",
       "      <td>IT013/IT013-00000003289845010600-0130.png</td>\n",
       "      <td>spot</td>\n",
       "    </tr>\n",
       "    <tr>\n",
       "      <th>...</th>\n",
       "      <td>...</td>\n",
       "      <td>...</td>\n",
       "      <td>...</td>\n",
       "    </tr>\n",
       "    <tr>\n",
       "      <th>24751</th>\n",
       "      <td>998 3 1396 6 1795 8 2195 9 2594 11 2994 11 3393 13 3793 13 4193 13 4593 14 4993 14 5393 14 5792 15 5849 5 6192 15 6248 7 6592 15 6647 9 6992 15 7047 9 7347 2 7392 15 7447 10 7747 2 7792 15 7846 11 8145 5 8192 15 8245 12 8544 7 8592 15 8645 12 8943 8 8992 16 9045 12 9343 8 9392 16 9445 12 9742 10 9792 16 9845 12 10142 10 10192 16 10245 12 10332 5 10464 5 10542 10 10592 15 10645 12 10731 8 10864 5 10941 11 10992 15 11045 12 11130 9 11262 8 11342 10 11392 16 11445 12 11529 11 11661 9 11742 10 11792 16 11845 13 11929 11 12060 10 12142 10 12192 16 12245 12 12328 12 12459 11 12542 10 12592 16 12...</td>\n",
       "      <td>IT011/IT011-00000006734971525200-0030.png</td>\n",
       "      <td>stripe</td>\n",
       "    </tr>\n",
       "    <tr>\n",
       "      <th>24752</th>\n",
       "      <td>6598 1 6600 1 6997 6 7396 9 7795 10 8194 12 8593 14 8994 12 9394 12 9795 11 10195 10 10597 7 10999 2 19000 1 19350 3 19494 7 19747 10 19800 1 19893 8 20146 11 20293 10 20546 11 20597 1 20600 2 20603 1 20693 10 20945 13 20997 2 21000 2 21003 1 21093 11 21344 15 21397 2 21400 5 21493 11 21745 13 21796 9 21893 11 22145 13 22196 9 22293 11 22545 12 22596 10 22693 11 22946 11 22995 11 23094 9 23348 6 23394 13 23495 7 23749 2 23794 13 23896 3 24193 14 24593 14 24994 13 25394 13 25794 13 26194 13 26594 13 26994 13 27395 11 27796 10 28197 7 28596 8 28997 5 29003 1 29397 4 31703 3 32101 9 32501 10 ...</td>\n",
       "      <td>IT011/IT011-00000007217460377300-0040.png</td>\n",
       "      <td>spot</td>\n",
       "    </tr>\n",
       "    <tr>\n",
       "      <th>24753</th>\n",
       "      <td>997 6 1396 7 1795 9 2195 9 2595 10 2995 10 3395 10 3795 10 4195 11 4527 2 4595 11 4647 3 4926 5 4994 12 5046 7 5069 6 5326 6 5349 3 5394 12 5446 7 5469 7 5724 8 5748 5 5794 12 5845 9 5869 8 6124 8 6147 6 6194 11 6245 9 6268 9 6523 10 6547 8 6594 11 6645 10 6668 10 6923 10 6947 8 6994 12 7045 10 7068 10 7323 10 7347 8 7394 12 7444 11 7467 11 7723 10 7746 9 7794 12 7844 11 7867 12 8056 5 8123 10 8146 10 8194 12 8244 11 8267 12 8455 6 8523 10 8546 10 8594 12 8644 11 8667 12 8744 3 8855 8 8923 10 8946 10 8994 12 9043 12 9067 12 9141 7 9255 8 9323 10 9346 10 9394 12 9443 12 9467 12 9540 8 9655 ...</td>\n",
       "      <td>IT011/IT011-00000007217460377300-0040.png</td>\n",
       "      <td>stripe</td>\n",
       "    </tr>\n",
       "    <tr>\n",
       "      <th>24754</th>\n",
       "      <td>5797 4 6197 7 6595 10 6995 10 7393 13 7793 14 8193 13 8593 13 8993 13 9393 13 9795 10 10196 8 10600 1 18150 3 18548 9 18691 7 18947 11 19091 10 19346 13 19489 12 19745 14 19798 1 19800 1 19889 13 20145 14 20197 2 20200 2 20289 14 20545 14 20597 7 20689 14 20945 14 20996 9 21089 14 21345 14 21396 9 21489 14 21746 12 21796 9 21869 5 21890 13 22146 12 22196 9 22269 6 22291 12 22547 10 22594 11 22667 10 22691 11 22948 8 22994 12 23067 10 23093 8 23350 2 23394 12 23467 11 23495 4 23794 12 23867 11 24194 12 24267 11 24594 12 24667 11 24995 11 25067 11 25395 11 25467 11 25796 9 25868 9 26196 9 26...</td>\n",
       "      <td>IT011/IT011-00000006898461555100-0040.png</td>\n",
       "      <td>spot</td>\n",
       "    </tr>\n",
       "    <tr>\n",
       "      <th>24755</th>\n",
       "      <td>599 3 995 9 1395 9 1795 10 2195 10 2594 12 2928 1 2994 12 3326 5 3394 12 3469 6 3726 5 3794 12 3868 7 4125 8 4148 5 4194 12 4247 4 4267 9 4525 8 4548 5 4594 12 4646 6 4667 9 4924 9 4947 8 4994 12 5045 8 5067 10 5324 9 5347 8 5394 12 5445 8 5467 10 5724 10 5747 8 5794 12 5845 8 5867 10 6124 10 6147 9 6193 13 6245 8 6267 10 6524 10 6546 10 6593 13 6644 10 6666 12 6924 10 6946 11 6994 12 7044 10 7066 12 7324 10 7346 10 7393 13 7444 10 7466 12 7724 10 7746 11 7793 13 7844 11 7866 12 8124 10 8145 12 8194 12 8243 12 8266 12 8524 11 8545 12 8593 13 8643 12 8666 12 8860 4 8924 11 8946 11 8994 12 9...</td>\n",
       "      <td>IT011/IT011-00000006898461555100-0040.png</td>\n",
       "      <td>stripe</td>\n",
       "    </tr>\n",
       "  </tbody>\n",
       "</table>\n",
       "<p>24756 rows × 3 columns</p>\n",
       "</div>"
      ],
      "text/plain": [
       "                                                                                                                                                                                                                                                                                                                                                                                                                                                                                                                                                                                                                 EncodedPixels  \\\n",
       "0                                                                                                                                                                               1003 7 1403 7 1806 1 12153 6 12552 8 12951 10 13351 11 13750 13 14150 13 14550 13 14951 11 15351 10 15751 10 16153 8 16553 7 17804 4 18203 6 18601 9 19001 10 19401 10 19801 10 20201 10 20601 9 21002 8 21402 8 21803 5 22203 4 24655 2 25050 9 25449 11 25849 12 26249 12 26648 14 27048 14 27449 12 27849 12 28249 11 28649 10 29053 4 37004 1 37007 1 37403 6 37802 9 38201 11 38601 11 39001 11 39401 12 39801 11 40202 9 40603 8 41005 4   \n",
       "1      1803 6 2203 6 2603 7 3003 7 3402 9 3802 9 4201 11 4601 11 5001 11 5401 11 5801 11 6201 11 6601 11 7001 11 7401 11 7801 11 8200 12 8600 12 9000 12 9400 12 9800 12 10200 12 10600 12 10655 2 11000 12 11055 2 11400 12 11455 2 11800 12 11855 3 12200 12 12255 3 12600 12 12655 3 13000 12 13053 5 13400 12 13453 5 13800 12 13853 5 14200 12 14253 5 14600 12 14653 5 15000 12 15053 6 15400 12 15453 5 15800 12 15853 5 16200 12 16255 3 16600 12 16655 3 17000 12 17055 3 17400 12 17455 2 17800 11 17855 2 18200 11 18255 3 18600 11 18655 2 19000 11 19055 2 19355 2 19400 11 19455 2 19755 2 19800 11 19856 1 2...   \n",
       "2                                                                                                                                                                                                                                                                                                   11853 1 12148 2 12253 5 12548 3 12651 7 12948 3 13049 11 13348 3 13449 11 13748 3 13849 12 14150 1 14249 12 14649 12 15049 12 15449 12 15849 12 16251 9 16651 7 17055 1 19801 4 20198 8 20597 10 20996 12 21396 12 21796 13 22196 13 22595 14 22995 14 23396 13 23795 14 24196 12 24597 11 24996 1 24998 9 25399 8 25801 3   \n",
       "3      201 3 601 5 999 8 1053 4 1399 9 1452 5 1798 10 1851 7 2198 10 2251 8 2597 12 2651 8 2997 12 3051 9 3397 12 3450 10 3797 12 3850 10 4197 12 4249 11 4597 12 4649 11 4997 12 5049 11 5397 12 5449 11 5751 1 5797 12 5849 11 6151 2 6197 12 6249 11 6548 6 6597 12 6649 12 6948 6 6997 12 7049 12 7347 7 7397 12 7449 12 7747 7 7796 13 7849 12 8147 8 8196 13 8249 11 8547 8 8596 13 8649 12 8947 8 8996 13 9049 12 9347 8 9396 13 9449 12 9747 9 9796 13 9849 12 10147 9 10196 13 10249 11 10547 9 10596 13 10649 12 10947 9 10996 13 11049 12 11347 9 11396 13 11449 12 11747 9 11796 13 11849 12 12065 1 12147 9 12...   \n",
       "4                                                                                                                                                                                            1000 9 1399 10 1801 2 1805 3 2201 2 12553 2 12949 10 13349 11 13749 11 14149 11 14549 12 14949 12 15349 10 15750 8 16151 6 16551 4 18205 1 18602 4 19001 6 19401 5 19800 7 20200 7 20600 7 21001 5 21401 4 21801 4 22201 4 25049 9 25448 11 25847 12 26247 12 26647 13 27047 13 27447 12 27847 12 28247 12 28648 10 29049 8 29452 1 38599 8 38999 8 39398 11 39798 11 40198 11 40598 11 40999 10 41399 10 41799 8 42200 7 42602 2   \n",
       "...                                                                                                                                                                                                                                                                                                                                                                                                                                                                                                                                                                                                                        ...   \n",
       "24751  998 3 1396 6 1795 8 2195 9 2594 11 2994 11 3393 13 3793 13 4193 13 4593 14 4993 14 5393 14 5792 15 5849 5 6192 15 6248 7 6592 15 6647 9 6992 15 7047 9 7347 2 7392 15 7447 10 7747 2 7792 15 7846 11 8145 5 8192 15 8245 12 8544 7 8592 15 8645 12 8943 8 8992 16 9045 12 9343 8 9392 16 9445 12 9742 10 9792 16 9845 12 10142 10 10192 16 10245 12 10332 5 10464 5 10542 10 10592 15 10645 12 10731 8 10864 5 10941 11 10992 15 11045 12 11130 9 11262 8 11342 10 11392 16 11445 12 11529 11 11661 9 11742 10 11792 16 11845 13 11929 11 12060 10 12142 10 12192 16 12245 12 12328 12 12459 11 12542 10 12592 16 12...   \n",
       "24752  6598 1 6600 1 6997 6 7396 9 7795 10 8194 12 8593 14 8994 12 9394 12 9795 11 10195 10 10597 7 10999 2 19000 1 19350 3 19494 7 19747 10 19800 1 19893 8 20146 11 20293 10 20546 11 20597 1 20600 2 20603 1 20693 10 20945 13 20997 2 21000 2 21003 1 21093 11 21344 15 21397 2 21400 5 21493 11 21745 13 21796 9 21893 11 22145 13 22196 9 22293 11 22545 12 22596 10 22693 11 22946 11 22995 11 23094 9 23348 6 23394 13 23495 7 23749 2 23794 13 23896 3 24193 14 24593 14 24994 13 25394 13 25794 13 26194 13 26594 13 26994 13 27395 11 27796 10 28197 7 28596 8 28997 5 29003 1 29397 4 31703 3 32101 9 32501 10 ...   \n",
       "24753  997 6 1396 7 1795 9 2195 9 2595 10 2995 10 3395 10 3795 10 4195 11 4527 2 4595 11 4647 3 4926 5 4994 12 5046 7 5069 6 5326 6 5349 3 5394 12 5446 7 5469 7 5724 8 5748 5 5794 12 5845 9 5869 8 6124 8 6147 6 6194 11 6245 9 6268 9 6523 10 6547 8 6594 11 6645 10 6668 10 6923 10 6947 8 6994 12 7045 10 7068 10 7323 10 7347 8 7394 12 7444 11 7467 11 7723 10 7746 9 7794 12 7844 11 7867 12 8056 5 8123 10 8146 10 8194 12 8244 11 8267 12 8455 6 8523 10 8546 10 8594 12 8644 11 8667 12 8744 3 8855 8 8923 10 8946 10 8994 12 9043 12 9067 12 9141 7 9255 8 9323 10 9346 10 9394 12 9443 12 9467 12 9540 8 9655 ...   \n",
       "24754  5797 4 6197 7 6595 10 6995 10 7393 13 7793 14 8193 13 8593 13 8993 13 9393 13 9795 10 10196 8 10600 1 18150 3 18548 9 18691 7 18947 11 19091 10 19346 13 19489 12 19745 14 19798 1 19800 1 19889 13 20145 14 20197 2 20200 2 20289 14 20545 14 20597 7 20689 14 20945 14 20996 9 21089 14 21345 14 21396 9 21489 14 21746 12 21796 9 21869 5 21890 13 22146 12 22196 9 22269 6 22291 12 22547 10 22594 11 22667 10 22691 11 22948 8 22994 12 23067 10 23093 8 23350 2 23394 12 23467 11 23495 4 23794 12 23867 11 24194 12 24267 11 24594 12 24667 11 24995 11 25067 11 25395 11 25467 11 25796 9 25868 9 26196 9 26...   \n",
       "24755  599 3 995 9 1395 9 1795 10 2195 10 2594 12 2928 1 2994 12 3326 5 3394 12 3469 6 3726 5 3794 12 3868 7 4125 8 4148 5 4194 12 4247 4 4267 9 4525 8 4548 5 4594 12 4646 6 4667 9 4924 9 4947 8 4994 12 5045 8 5067 10 5324 9 5347 8 5394 12 5445 8 5467 10 5724 10 5747 8 5794 12 5845 8 5867 10 6124 10 6147 9 6193 13 6245 8 6267 10 6524 10 6546 10 6593 13 6644 10 6666 12 6924 10 6946 11 6994 12 7044 10 7066 12 7324 10 7346 10 7393 13 7444 10 7466 12 7724 10 7746 11 7793 13 7844 11 7866 12 8124 10 8145 12 8194 12 8243 12 8266 12 8524 11 8545 12 8593 13 8643 12 8666 12 8860 4 8924 11 8946 11 8994 12 9...   \n",
       "\n",
       "                                           Image   Label  \n",
       "0      IT013/IT013-00000002710866284600-0130.png    spot  \n",
       "1      IT013/IT013-00000002710866284600-0130.png  stripe  \n",
       "2      IT013/IT013-00000002519942717100-0130.png    spot  \n",
       "3      IT013/IT013-00000002519942717100-0130.png  stripe  \n",
       "4      IT013/IT013-00000003289845010600-0130.png    spot  \n",
       "...                                          ...     ...  \n",
       "24751  IT011/IT011-00000006734971525200-0030.png  stripe  \n",
       "24752  IT011/IT011-00000007217460377300-0040.png    spot  \n",
       "24753  IT011/IT011-00000007217460377300-0040.png  stripe  \n",
       "24754  IT011/IT011-00000006898461555100-0040.png    spot  \n",
       "24755  IT011/IT011-00000006898461555100-0040.png  stripe  \n",
       "\n",
       "[24756 rows x 3 columns]"
      ]
     },
     "execution_count": 73,
     "metadata": {},
     "output_type": "execute_result"
    }
   ],
   "source": [
    "df"
   ]
  },
  {
   "cell_type": "code",
   "execution_count": 74,
   "metadata": {},
   "outputs": [],
   "source": [
    "df = df.pivot(index=\"Image\", columns=\"Label\", values=\"EncodedPixels\")"
   ]
  },
  {
   "cell_type": "code",
   "execution_count": 75,
   "metadata": {},
   "outputs": [],
   "source": [
    "root = training_data_folder\n",
    "# root = training_data_folder.absolute()"
   ]
  },
  {
   "cell_type": "code",
   "execution_count": 76,
   "metadata": {},
   "outputs": [],
   "source": [
    "exp_code = df.index.map(lambda x: x.split(\"/\")[0]).unique().values"
   ]
  },
  {
   "cell_type": "code",
   "execution_count": 77,
   "metadata": {},
   "outputs": [],
   "source": [
    "df.index = df.index.map( lambda x: os.path.join(root, x) )"
   ]
  },
  {
   "cell_type": "code",
   "execution_count": 78,
   "metadata": {},
   "outputs": [
    {
     "data": {
      "text/plain": [
       "Label\n",
       "spot                                                                                                                                                                                                                                                                                                                                                                                                                             40197 6 40205 2 40596 11 40995 12 41395 12 41793 16 42193 16 42593 16 42993 16 43393 16 43793 16 44193 16 44593 16 44993 16 45393 16 45794 15 46195 14 46597 10 46997 10 47398 2 47401 5 47801 3\n",
       "stripe    2598 7 2998 7 3397 10 3797 10 4196 12 4596 12 4996 12 5396 12 5795 13 6195 13 6595 14 6995 14 7395 14 7795 14 8195 14 8595 14 8995 14 9395 14 9795 14 10195 14 10595 14 10995 14 11395 14 11795 14 12195 14 12595 14 12995 14 13395 14 13795 14 14195 14 14595 14 14995 14 15395 14 15795 14 16195 14 16595 14 16995 14 17395 14 17795 14 18195 14 18595 14 18995 14 19395 14 19795 14 20195 14 20595 14 20995 14 21395 14 21795 14 22194 15 22594 15 22994 15 23394 15 23794 15 24195 14 24595 14 24995 14 25395 14 25795 14 26195 14 26595 14 26995 14 27395 14 27795 14 28195 14 28595 14 28995 14 29395 14 29795...\n",
       "Name: ../data/training_data/IT003/IT003-700-_10.png, dtype: object"
      ]
     },
     "execution_count": 78,
     "metadata": {},
     "output_type": "execute_result"
    }
   ],
   "source": [
    "row= df.iloc[0]; row"
   ]
  },
  {
   "cell_type": "markdown",
   "metadata": {},
   "source": [
    "# Create Dataset"
   ]
  },
  {
   "cell_type": "code",
   "execution_count": 81,
   "metadata": {},
   "outputs": [
    {
     "name": "stdout",
     "output_type": "stream",
     "text": [
      "RHEEDTensorImage: torch.Size([3, 200, 400])\n"
     ]
    }
   ],
   "source": [
    "img_path = df.index[0]\n",
    "\n",
    "img = RHEEDTensorImage.create(img_path)\n",
    "print(img)"
   ]
  },
  {
   "cell_type": "code",
   "execution_count": 83,
   "metadata": {},
   "outputs": [
    {
     "data": {
      "text/plain": [
       "<AxesSubplot:>"
      ]
     },
     "execution_count": 83,
     "metadata": {},
     "output_type": "execute_result"
    },
    {
     "data": {
      "image/png": "[encoded data removed]",
      "text/plain": [
       "<Figure size 600x1200 with 1 Axes>"
      ]
     },
     "metadata": {
      "needs_background": "light"
     },
     "output_type": "display_data"
    }
   ],
   "source": [
    "_, ax = plt.subplots(1, 1, figsize=(4, 8), dpi=150)\n",
    "img.show(ctx=ax)"
   ]
  },
  {
   "cell_type": "code",
   "execution_count": 84,
   "metadata": {},
   "outputs": [
    {
     "data": {
      "text/plain": [
       "True"
      ]
     },
     "execution_count": 84,
     "metadata": {},
     "output_type": "execute_result"
    }
   ],
   "source": [
    "isinstance(df.index[0], str)"
   ]
  },
  {
   "cell_type": "code",
   "execution_count": 85,
   "metadata": {},
   "outputs": [],
   "source": [
    "mask = RHEEDTensorMask.create(df.iloc[0], shape=(200,400))"
   ]
  },
  {
   "cell_type": "code",
   "execution_count": 86,
   "metadata": {},
   "outputs": [
    {
     "name": "stdout",
     "output_type": "stream",
     "text": [
      "torch.Size([2, 200, 400])\n"
     ]
    }
   ],
   "source": [
    "print(mask.shape)"
   ]
  },
  {
   "cell_type": "code",
   "execution_count": 87,
   "metadata": {},
   "outputs": [
    {
     "data": {
      "text/plain": [
       "<AxesSubplot:>"
      ]
     },
     "execution_count": 87,
     "metadata": {},
     "output_type": "execute_result"
    },
    {
     "data": {
      "image/png": "[encoded data removed]",
      "text/plain": [
       "<Figure size 720x360 with 2 Axes>"
      ]
     },
     "metadata": {
      "needs_background": "light"
     },
     "output_type": "display_data"
    }
   ],
   "source": [
    "_, ax = plt.subplots(1, 2, figsize=(10, 5))\n",
    "mask.show(chn=0, ctx=ax[0])\n",
    "mask.show(chn=1, ctx=ax[1])"
   ]
  },
  {
   "cell_type": "code",
   "execution_count": 88,
   "metadata": {},
   "outputs": [],
   "source": [
    "def get_lbl_fn(img_fn: Path, df: DataFrame):\n",
    "    \"\"\"\n",
    "        Not used. Could use partial to assign the actual dataframe to the df argument\n",
    "    \"\"\"\n",
    "    row = df.loc[img_fn]\n",
    "    return row\n",
    "\n",
    "def split_by_exp(val_exps):\n",
    "    def _split_by_exp(x):\n",
    "        if isinstance(x, Path) or isinstance(x, str):\n",
    "            path = x\n",
    "        elif isinstance(x, pd.Series):\n",
    "            path = x.name \n",
    "        exp_code = path.split(\"/\")[1]\n",
    "        return exp_code in val_exps\n",
    "            \n",
    "    return _split_by_exp\n",
    "\n",
    "val_exps = np.random.choice(exp_code, size=2, replace=False)\n",
    "    \n",
    "# splitter = RandomSplitter(valid_pct=0.1) # valid on random sample\n",
    "splitter = FuncSplitter(split_by_exp(val_exps))"
   ]
  },
  {
   "cell_type": "code",
   "execution_count": 89,
   "metadata": {},
   "outputs": [
    {
     "data": {
      "text/plain": [
       "array(['IT005', 'IT006'], dtype=object)"
      ]
     },
     "execution_count": 89,
     "metadata": {},
     "output_type": "execute_result"
    }
   ],
   "source": [
    "val_exps"
   ]
  },
  {
   "cell_type": "code",
   "execution_count": 90,
   "metadata": {},
   "outputs": [
    {
     "data": {
      "text/plain": [
       "Index(['../data/training_data/IT003/IT003-700-_10.png',\n",
       "       '../data/training_data/IT003/IT003-700-_100.png',\n",
       "       '../data/training_data/IT003/IT003-700-_1000.png',\n",
       "       '../data/training_data/IT003/IT003-700-_1001.png',\n",
       "       '../data/training_data/IT003/IT003-700-_1002.png'],\n",
       "      dtype='object', name='Image')"
      ]
     },
     "execution_count": 90,
     "metadata": {},
     "output_type": "execute_result"
    }
   ],
   "source": [
    "df.index[:5]"
   ]
  },
  {
   "cell_type": "code",
   "execution_count": 91,
   "metadata": {},
   "outputs": [
    {
     "data": {
      "text/plain": [
       "array(['IT005', 'IT006'], dtype=object)"
      ]
     },
     "execution_count": 91,
     "metadata": {},
     "output_type": "execute_result"
    }
   ],
   "source": [
    "val_exps"
   ]
  },
  {
   "cell_type": "code",
   "execution_count": 92,
   "metadata": {},
   "outputs": [
    {
     "data": {
      "text/plain": [
       "((#5) [0,1,2,3,4], (#0) [])"
      ]
     },
     "execution_count": 92,
     "metadata": {},
     "output_type": "execute_result"
    }
   ],
   "source": [
    "splitter(df.index[:5])"
   ]
  },
  {
   "cell_type": "code",
   "execution_count": 93,
   "metadata": {},
   "outputs": [
    {
     "data": {
      "text/plain": [
       "((#0) [], (#1) [0])"
      ]
     },
     "execution_count": 93,
     "metadata": {},
     "output_type": "execute_result"
    }
   ],
   "source": [
    "splitter([ root / f\"{val_exps[0]}/001.png\" ])"
   ]
  },
  {
   "cell_type": "code",
   "execution_count": 94,
   "metadata": {},
   "outputs": [],
   "source": [
    "# use the whole df as items\n",
    "db = DataBlock(blocks=(TransformBlock(type_tfms=partial(RHEEDTensorImage.create, chnls_first=True)),\n",
    "                       TransformBlock(type_tfms=partial(RHEEDTensorMask.create, chnls_first=True, shape=(200, 400)), \n",
    "                                      item_tfms=AddMaskCodes(codes=df.columns)),\n",
    "                      ),\n",
    "               get_items=lambda x: x,\n",
    "               get_y = noop,\n",
    "               get_x = noop,\n",
    "               splitter=RandomSplitter(valid_pct=0.1)\n",
    "              )"
   ]
  },
  {
   "cell_type": "code",
   "execution_count": 95,
   "metadata": {},
   "outputs": [
    {
     "name": "stdout",
     "output_type": "stream",
     "text": [
      "Setting-up type transforms pipelines\n",
      "Collecting items from Label                                                                                                                                                                                                                                                                   spot  \\\n",
      "Image                                                                                                                                                                                                                                                                          \n",
      "../data/training_data/IT003/IT003-700-_10.png                               40197 6 40205 2 40596 11 40995 12 41395 12 41793 16 42193 16 42593 16 42993 16 43393 16 43793 16 44193 16 44593 16 44993 16 45393 16 45794 15 46195 14 46597 10 46997 10 47398 2 47401 5 47801 3   \n",
      "../data/training_data/IT003/IT003-700-_100.png                      39801 2 39805 1 40197 10 40596 11 40995 12 41394 14 41793 16 42193 16 42593 16 42993 16 43393 16 43793 16 44193 16 44593 16 44993 16 45394 15 45794 15 46195 13 46597 10 46997 9 47398 2 47401 2 47801 1   \n",
      "../data/training_data/IT003/IT003-700-_1000.png                                     39400 3 39405 1 39798 9 40195 12 40595 13 40994 14 41394 14 41794 14 42193 16 42593 16 42993 16 43393 16 43793 16 44194 16 44594 16 44994 15 45394 14 45795 13 46195 13 46597 10 46998 8   \n",
      "../data/training_data/IT003/IT003-700-_1001.png                                              40198 9 40596 11 40995 13 41395 13 41794 14 42194 15 42594 15 42993 16 43393 16 43793 16 44193 17 44593 16 44994 15 45394 15 45794 14 46195 12 46597 10 46998 8 47398 5 47801 1   \n",
      "../data/training_data/IT003/IT003-700-_1002.png                                                      40197 10 40596 12 40995 13 41395 13 41794 14 42194 15 42593 16 42993 16 43393 16 43793 16 44193 16 44593 16 44993 15 45394 14 45795 13 46196 12 46598 8 46999 5 47398 1   \n",
      "...                                                                                                                                                                                                                                                                      ...   \n",
      "../data/training_data/IT018/IT018-00000014714275053300-0200.png                                                                                                                                                                                                          NaN   \n",
      "../data/training_data/IT018/IT018-00000014724276049600-0200.png                                                                                                                                                                                                      19799 2   \n",
      "../data/training_data/IT018/IT018-00000014726276248800-0200(1).png                                                                                                                                                                                                       NaN   \n",
      "../data/training_data/IT018/IT018-00000014726276248800-0200.png                                                                                                                                                                                                          NaN   \n",
      "../data/training_data/IT018/IT018-00000014734277045800-0200.png                                                                                                                                                              20200 1 20205 1 20600 1 20605 1 21005 1 21405 1   \n",
      "\n",
      "Label                                                                                                                                                                                                                                                                                                                                                                                                                                                                                                                                                                                                                                                                                stripe  \n",
      "Image                                                                                                                                                                                                                                                                                                                                                                                                                                                                                                                                                                                                                                                                                        \n",
      "../data/training_data/IT003/IT003-700-_10.png                       2598 7 2998 7 3397 10 3797 10 4196 12 4596 12 4996 12 5396 12 5795 13 6195 13 6595 14 6995 14 7395 14 7795 14 8195 14 8595 14 8995 14 9395 14 9795 14 10195 14 10595 14 10995 14 11395 14 11795 14 12195 14 12595 14 12995 14 13395 14 13795 14 14195 14 14595 14 14995 14 15395 14 15795 14 16195 14 16595 14 16995 14 17395 14 17795 14 18195 14 18595 14 18995 14 19395 14 19795 14 20195 14 20595 14 20995 14 21395 14 21795 14 22194 15 22594 15 22994 15 23394 15 23794 15 24195 14 24595 14 24995 14 25395 14 25795 14 26195 14 26595 14 26995 14 27395 14 27795 14 28195 14 28595 14 28995 14 29395 14 29795...  \n",
      "../data/training_data/IT003/IT003-700-_100.png                      3000 1 3399 6 3798 8 4197 10 4597 10 4997 11 5397 11 5797 11 6197 11 6596 12 6996 12 7396 12 7796 13 8196 13 8596 13 8996 13 9396 13 9796 13 10196 13 10596 13 10996 13 11396 13 11796 13 12196 13 12596 13 12996 13 13396 13 13795 14 14195 14 14595 14 14995 14 15395 14 15795 14 16195 14 16595 14 16995 14 17395 14 17795 14 18195 14 18595 14 18995 14 19395 14 19795 14 20195 14 20595 14 20995 14 21395 14 21795 14 22195 14 22595 14 22995 14 23395 14 23795 14 24195 14 24595 14 24995 14 25395 14 25795 14 26195 14 26595 14 26995 14 27395 14 27795 14 28195 14 28595 14 28995 14 29395 14 29795 14 30195...  \n",
      "../data/training_data/IT003/IT003-700-_1000.png                     3800 1 4198 7 4598 8 4997 10 5397 10 5797 11 6197 11 6596 13 6996 13 7396 13 7796 13 8196 13 8596 13 8996 13 9396 13 9796 13 10196 13 10596 13 10996 13 11396 13 11796 13 12196 13 12596 13 12996 13 13396 13 13796 13 14196 13 14595 14 14995 14 15395 14 15795 14 16195 14 16595 14 16995 14 17395 14 17795 14 18195 14 18595 14 18995 14 19395 14 19795 14 20195 14 20595 14 20995 14 21395 14 21795 14 22195 14 22595 14 22995 14 23395 14 23795 14 24195 14 24595 14 24995 14 25395 14 25795 14 26195 14 26595 14 26995 14 27395 14 27795 14 28195 14 28595 14 28995 14 29395 14 29795 14 30195 14 30594 15 309...  \n",
      "../data/training_data/IT003/IT003-700-_1001.png                     3399 5 3799 6 4197 9 4597 9 4996 11 5396 11 5796 12 6196 12 6596 12 6996 12 7396 12 7796 12 8196 12 8596 13 8996 13 9396 13 9796 13 10196 13 10596 13 10996 13 11396 13 11796 13 12196 13 12596 13 12996 13 13396 13 13796 13 14196 13 14595 14 14995 14 15395 14 15795 14 16195 14 16595 14 16995 14 17395 14 17795 14 18195 14 18595 14 18995 14 19395 14 19795 14 20195 14 20595 14 20995 14 21395 14 21795 14 22195 14 22595 14 22995 14 23395 14 23795 14 24195 14 24595 14 24995 14 25395 14 25795 14 26195 14 26595 14 26995 14 27395 14 27795 14 28195 14 28595 14 28995 14 29395 14 29795 14 30195 14 30595...  \n",
      "../data/training_data/IT003/IT003-700-_1002.png                     4200 3 4599 6 4998 8 5397 9 5797 10 6197 10 6597 11 6997 11 7396 12 7796 12 8196 12 8596 13 8996 13 9396 13 9796 13 10196 13 10596 13 10996 13 11396 13 11796 13 12196 13 12596 13 12996 13 13396 13 13796 13 14196 13 14596 13 14996 13 15395 14 15795 14 16195 14 16595 14 16995 14 17395 14 17795 14 18195 14 18595 14 18995 14 19395 14 19795 14 20195 14 20595 14 20995 14 21395 14 21795 14 22195 14 22595 14 22995 14 23395 14 23795 14 24195 14 24595 14 24995 14 25395 14 25795 14 26195 14 26595 14 26995 14 27395 14 27795 14 28195 14 28595 14 28995 14 29395 14 29795 14 30195 14 30595 14 30995 14 313...  \n",
      "...                                                                                                                                                                                                                                                                                                                                                                                                                                                                                                                                                                                                                                                                                     ...  \n",
      "../data/training_data/IT018/IT018-00000014714275053300-0200.png     197 10 551 3 596 11 946 10 996 11 1046 5 1303 7 1346 11 1395 13 1445 7 1656 7 1701 11 1745 12 1795 13 1844 11 1891 6 2055 9 2101 12 2145 13 2195 13 2243 13 2291 8 2454 13 2501 13 2545 13 2595 13 2643 14 2690 11 2854 13 2901 13 2945 13 2995 13 3043 14 3090 11 3253 15 3300 15 3345 14 3395 13 3443 15 3489 13 3653 16 3700 15 3744 15 3795 13 3843 15 3889 13 4053 16 4100 15 4144 14 4194 14 4243 15 4289 13 4453 16 4500 15 4544 14 4594 14 4643 15 4689 14 4739 3 4743 1 4852 17 4900 16 4944 15 4995 13 5042 17 5089 14 5137 10 5252 18 5299 17 5344 15 5395 13 5442 17 5489 15 5537 11 5652 18 5699 17 574...  \n",
      "../data/training_data/IT018/IT018-00000014724276049600-0200.png     197 10 549 1 552 3 596 11 947 9 996 12 1046 5 1303 7 1346 10 1395 13 1445 9 1655 8 1701 11 1745 13 1795 12 1844 12 1889 8 2055 9 2100 13 2145 13 2195 13 2243 14 2288 11 2454 12 2500 13 2545 13 2595 13 2643 14 2688 13 2854 13 2900 13 2945 14 2995 13 3043 14 3088 13 3253 15 3300 14 3345 14 3395 13 3443 15 3488 14 3653 15 3699 15 3745 14 3795 13 3842 16 3888 14 4053 15 4099 15 4145 14 4195 13 4242 16 4287 15 4452 17 4499 16 4545 14 4595 13 4642 17 4687 16 4740 1 4852 17 4899 16 4945 14 4995 13 5042 17 5087 16 5137 10 5252 17 5299 16 5345 14 5395 13 5442 17 5487 16 5537 11 5652 17 5699 16 5744...  \n",
      "../data/training_data/IT018/IT018-00000014726276248800-0200(1).png  198 9 551 4 597 11 948 9 997 11 1048 1 1305 5 1347 11 1396 12 1447 5 1453 1 1656 7 1703 9 1747 11 1796 12 1845 10 1891 7 2055 9 2102 11 2147 12 2196 12 2244 13 2291 9 2455 11 2502 12 2546 14 2596 12 2644 13 2691 10 2854 13 2902 12 2946 14 2996 12 3044 14 3090 11 3254 15 3301 14 3346 14 3396 13 3444 15 3489 13 3653 16 3701 14 3746 14 3796 13 3843 16 3889 14 4053 16 4101 14 4146 14 4196 13 4243 16 4289 14 4340 5 4453 16 4501 15 4546 14 4596 13 4643 16 4689 14 4739 7 4853 17 4901 15 4946 14 4996 13 5043 17 5089 15 5137 11 5253 17 5301 15 5346 14 5396 13 5443 17 5489 15 5537 12 5653 18 5700 16...  \n",
      "../data/training_data/IT018/IT018-00000014726276248800-0200.png     198 9 551 4 597 11 948 9 997 11 1048 1 1305 5 1347 11 1396 12 1447 5 1453 1 1656 7 1703 9 1747 11 1796 12 1845 10 1891 7 2055 9 2102 11 2147 12 2196 12 2244 13 2291 9 2455 11 2502 12 2546 14 2596 12 2644 13 2691 10 2854 13 2902 12 2946 14 2996 12 3044 14 3090 11 3254 15 3301 14 3346 14 3396 13 3444 15 3489 13 3653 16 3701 14 3746 14 3796 13 3843 16 3889 14 4053 16 4101 14 4146 14 4196 13 4243 16 4289 14 4340 5 4453 16 4501 15 4546 14 4596 13 4643 16 4689 14 4739 7 4853 17 4901 15 4946 14 4996 13 5043 17 5089 15 5137 11 5253 17 5301 15 5346 14 5396 13 5443 17 5489 15 5537 12 5653 18 5700 16...  \n",
      "../data/training_data/IT018/IT018-00000014734277045800-0200.png     197 10 550 4 597 10 946 10 996 11 1047 4 1304 6 1346 10 1395 12 1446 8 1495 1 1657 4 1703 9 1745 12 1795 12 1844 11 1890 10 2056 8 2102 11 2145 13 2195 13 2244 12 2290 11 2455 11 2501 12 2545 13 2595 13 2644 13 2689 12 2854 13 2901 13 2945 14 2995 13 3044 13 3089 13 3253 15 3301 14 3345 14 3395 13 3443 15 3489 13 3653 16 3700 15 3745 14 3795 13 3843 15 3889 14 4053 16 4100 15 4145 14 4195 13 4243 15 4289 14 4339 6 4453 16 4500 16 4544 14 4595 13 4643 15 4689 14 4739 7 4852 18 4900 16 4944 15 4994 14 5043 15 5089 14 5137 11 5252 18 5300 16 5344 15 5394 14 5443 15 5489 14 5537 11 5652 19 570...  \n",
      "\n",
      "[12378 rows x 2 columns]\n",
      "Found 12378 items\n",
      "2 datasets of sizes 11141,1237\n",
      "Setting up Pipeline: partial\n",
      "Setting up Pipeline: partial\n",
      "\n",
      "Building one sample\n",
      "  Pipeline: partial\n",
      "    starting from\n",
      "      Label\n",
      "spot      5794 8 6193 10 6593 12 6992 13 7145 1 7391 14 7540 9 7791 15 7940 10 8191 16 8339 12 8592 14 8739 12 8993 13 9141 10 9393 12 9541 10 9793 12 9941 9 10194 11 10341 9 10595 9 10742 7 10997 3 11001 1 11003 1 11143 6 11543 4 11945 1 17751 1 18147 8 18293 4 18545 11 18690 5 18701 1 18944 13 19090 12 19342 15 19489 14 19742 15 19889 14 20143 14 20289 14 20542 15 20689 15 20942 15 21090 14 21343 14 21490 13 21744 12 21891 12 22143 13 22291 12 22545 10 22693 8 22945 10 23093 8 23346 1 23349 5 23398 2 23470 2 23494 1 23798 2 23869 4 24195 2 24198 3 24269 5 24595 7 24669 5 24995 7 25069 4 25394 8 25...\n",
      "stripe    996 4 1395 6 1747 3 1751 1 1795 5 2147 5 2195 7 2545 8 2595 8 2945 8 2995 8 3345 8 3394 10 3745 8 3793 11 3847 2 4145 9 4193 11 4246 4 4545 9 4593 11 4645 6 4945 9 4992 11 5045 7 5345 9 5392 11 5444 8 5725 4 5745 9 5792 10 5844 8 6124 6 6145 10 6192 11 6244 9 6523 8 6545 10 6593 5 6599 2 6644 9 6923 8 6945 10 6993 8 7043 10 7323 8 7345 10 7392 1 7395 7 7443 10 7469 4 7723 9 7745 10 7791 2 7794 8 7843 10 7869 4 8056 9 8123 9 8145 10 8191 12 8243 10 8268 6 8455 10 8500 1 8523 9 8545 10 8591 12 8643 10 8668 7 8855 11 8900 1 8922 10 8945 10 8992 1 8994 10 9043 10 9067 8 9254 13 9299 5 9322 10 ...\n",
      "Name: ../data/training_data/IT016/IT016-00000008088094651200-0210.png, dtype: object\n",
      "    applying partial gives\n",
      "      RHEEDTensorImage of size 3x200x400\n",
      "  Pipeline: partial\n",
      "    starting from\n",
      "      Label\n",
      "spot      5794 8 6193 10 6593 12 6992 13 7145 1 7391 14 7540 9 7791 15 7940 10 8191 16 8339 12 8592 14 8739 12 8993 13 9141 10 9393 12 9541 10 9793 12 9941 9 10194 11 10341 9 10595 9 10742 7 10997 3 11001 1 11003 1 11143 6 11543 4 11945 1 17751 1 18147 8 18293 4 18545 11 18690 5 18701 1 18944 13 19090 12 19342 15 19489 14 19742 15 19889 14 20143 14 20289 14 20542 15 20689 15 20942 15 21090 14 21343 14 21490 13 21744 12 21891 12 22143 13 22291 12 22545 10 22693 8 22945 10 23093 8 23346 1 23349 5 23398 2 23470 2 23494 1 23798 2 23869 4 24195 2 24198 3 24269 5 24595 7 24669 5 24995 7 25069 4 25394 8 25...\n",
      "stripe    996 4 1395 6 1747 3 1751 1 1795 5 2147 5 2195 7 2545 8 2595 8 2945 8 2995 8 3345 8 3394 10 3745 8 3793 11 3847 2 4145 9 4193 11 4246 4 4545 9 4593 11 4645 6 4945 9 4992 11 5045 7 5345 9 5392 11 5444 8 5725 4 5745 9 5792 10 5844 8 6124 6 6145 10 6192 11 6244 9 6523 8 6545 10 6593 5 6599 2 6644 9 6923 8 6945 10 6993 8 7043 10 7323 8 7345 10 7392 1 7395 7 7443 10 7469 4 7723 9 7745 10 7791 2 7794 8 7843 10 7869 4 8056 9 8123 9 8145 10 8191 12 8243 10 8268 6 8455 10 8500 1 8523 9 8545 10 8591 12 8643 10 8668 7 8855 11 8900 1 8922 10 8945 10 8992 1 8994 10 9043 10 9067 8 9254 13 9299 5 9322 10 ...\n",
      "Name: ../data/training_data/IT016/IT016-00000008088094651200-0210.png, dtype: object\n",
      "    applying partial gives\n",
      "      RHEEDTensorMask of size 2x200x400\n",
      "\n",
      "Final sample: (RHEEDTensorImage: torch.Size([3, 200, 400]), RHEEDTensorMask: torch.Size([2, 200, 400]))\n",
      "\n",
      "\n",
      "Collecting items from Label                                                                                                                                                                                                                                                                   spot  \\\n",
      "Image                                                                                                                                                                                                                                                                          \n",
      "../data/training_data/IT003/IT003-700-_10.png                               40197 6 40205 2 40596 11 40995 12 41395 12 41793 16 42193 16 42593 16 42993 16 43393 16 43793 16 44193 16 44593 16 44993 16 45393 16 45794 15 46195 14 46597 10 46997 10 47398 2 47401 5 47801 3   \n",
      "../data/training_data/IT003/IT003-700-_100.png                      39801 2 39805 1 40197 10 40596 11 40995 12 41394 14 41793 16 42193 16 42593 16 42993 16 43393 16 43793 16 44193 16 44593 16 44993 16 45394 15 45794 15 46195 13 46597 10 46997 9 47398 2 47401 2 47801 1   \n",
      "../data/training_data/IT003/IT003-700-_1000.png                                     39400 3 39405 1 39798 9 40195 12 40595 13 40994 14 41394 14 41794 14 42193 16 42593 16 42993 16 43393 16 43793 16 44194 16 44594 16 44994 15 45394 14 45795 13 46195 13 46597 10 46998 8   \n",
      "../data/training_data/IT003/IT003-700-_1001.png                                              40198 9 40596 11 40995 13 41395 13 41794 14 42194 15 42594 15 42993 16 43393 16 43793 16 44193 17 44593 16 44994 15 45394 15 45794 14 46195 12 46597 10 46998 8 47398 5 47801 1   \n",
      "../data/training_data/IT003/IT003-700-_1002.png                                                      40197 10 40596 12 40995 13 41395 13 41794 14 42194 15 42593 16 42993 16 43393 16 43793 16 44193 16 44593 16 44993 15 45394 14 45795 13 46196 12 46598 8 46999 5 47398 1   \n",
      "...                                                                                                                                                                                                                                                                      ...   \n",
      "../data/training_data/IT018/IT018-00000014714275053300-0200.png                                                                                                                                                                                                          NaN   \n",
      "../data/training_data/IT018/IT018-00000014724276049600-0200.png                                                                                                                                                                                                      19799 2   \n",
      "../data/training_data/IT018/IT018-00000014726276248800-0200(1).png                                                                                                                                                                                                       NaN   \n",
      "../data/training_data/IT018/IT018-00000014726276248800-0200.png                                                                                                                                                                                                          NaN   \n",
      "../data/training_data/IT018/IT018-00000014734277045800-0200.png                                                                                                                                                              20200 1 20205 1 20600 1 20605 1 21005 1 21405 1   \n",
      "\n",
      "Label                                                                                                                                                                                                                                                                                                                                                                                                                                                                                                                                                                                                                                                                                stripe  \n",
      "Image                                                                                                                                                                                                                                                                                                                                                                                                                                                                                                                                                                                                                                                                                        \n",
      "../data/training_data/IT003/IT003-700-_10.png                       2598 7 2998 7 3397 10 3797 10 4196 12 4596 12 4996 12 5396 12 5795 13 6195 13 6595 14 6995 14 7395 14 7795 14 8195 14 8595 14 8995 14 9395 14 9795 14 10195 14 10595 14 10995 14 11395 14 11795 14 12195 14 12595 14 12995 14 13395 14 13795 14 14195 14 14595 14 14995 14 15395 14 15795 14 16195 14 16595 14 16995 14 17395 14 17795 14 18195 14 18595 14 18995 14 19395 14 19795 14 20195 14 20595 14 20995 14 21395 14 21795 14 22194 15 22594 15 22994 15 23394 15 23794 15 24195 14 24595 14 24995 14 25395 14 25795 14 26195 14 26595 14 26995 14 27395 14 27795 14 28195 14 28595 14 28995 14 29395 14 29795...  \n",
      "../data/training_data/IT003/IT003-700-_100.png                      3000 1 3399 6 3798 8 4197 10 4597 10 4997 11 5397 11 5797 11 6197 11 6596 12 6996 12 7396 12 7796 13 8196 13 8596 13 8996 13 9396 13 9796 13 10196 13 10596 13 10996 13 11396 13 11796 13 12196 13 12596 13 12996 13 13396 13 13795 14 14195 14 14595 14 14995 14 15395 14 15795 14 16195 14 16595 14 16995 14 17395 14 17795 14 18195 14 18595 14 18995 14 19395 14 19795 14 20195 14 20595 14 20995 14 21395 14 21795 14 22195 14 22595 14 22995 14 23395 14 23795 14 24195 14 24595 14 24995 14 25395 14 25795 14 26195 14 26595 14 26995 14 27395 14 27795 14 28195 14 28595 14 28995 14 29395 14 29795 14 30195...  \n",
      "../data/training_data/IT003/IT003-700-_1000.png                     3800 1 4198 7 4598 8 4997 10 5397 10 5797 11 6197 11 6596 13 6996 13 7396 13 7796 13 8196 13 8596 13 8996 13 9396 13 9796 13 10196 13 10596 13 10996 13 11396 13 11796 13 12196 13 12596 13 12996 13 13396 13 13796 13 14196 13 14595 14 14995 14 15395 14 15795 14 16195 14 16595 14 16995 14 17395 14 17795 14 18195 14 18595 14 18995 14 19395 14 19795 14 20195 14 20595 14 20995 14 21395 14 21795 14 22195 14 22595 14 22995 14 23395 14 23795 14 24195 14 24595 14 24995 14 25395 14 25795 14 26195 14 26595 14 26995 14 27395 14 27795 14 28195 14 28595 14 28995 14 29395 14 29795 14 30195 14 30594 15 309...  \n",
      "../data/training_data/IT003/IT003-700-_1001.png                     3399 5 3799 6 4197 9 4597 9 4996 11 5396 11 5796 12 6196 12 6596 12 6996 12 7396 12 7796 12 8196 12 8596 13 8996 13 9396 13 9796 13 10196 13 10596 13 10996 13 11396 13 11796 13 12196 13 12596 13 12996 13 13396 13 13796 13 14196 13 14595 14 14995 14 15395 14 15795 14 16195 14 16595 14 16995 14 17395 14 17795 14 18195 14 18595 14 18995 14 19395 14 19795 14 20195 14 20595 14 20995 14 21395 14 21795 14 22195 14 22595 14 22995 14 23395 14 23795 14 24195 14 24595 14 24995 14 25395 14 25795 14 26195 14 26595 14 26995 14 27395 14 27795 14 28195 14 28595 14 28995 14 29395 14 29795 14 30195 14 30595...  \n",
      "../data/training_data/IT003/IT003-700-_1002.png                     4200 3 4599 6 4998 8 5397 9 5797 10 6197 10 6597 11 6997 11 7396 12 7796 12 8196 12 8596 13 8996 13 9396 13 9796 13 10196 13 10596 13 10996 13 11396 13 11796 13 12196 13 12596 13 12996 13 13396 13 13796 13 14196 13 14596 13 14996 13 15395 14 15795 14 16195 14 16595 14 16995 14 17395 14 17795 14 18195 14 18595 14 18995 14 19395 14 19795 14 20195 14 20595 14 20995 14 21395 14 21795 14 22195 14 22595 14 22995 14 23395 14 23795 14 24195 14 24595 14 24995 14 25395 14 25795 14 26195 14 26595 14 26995 14 27395 14 27795 14 28195 14 28595 14 28995 14 29395 14 29795 14 30195 14 30595 14 30995 14 313...  \n",
      "...                                                                                                                                                                                                                                                                                                                                                                                                                                                                                                                                                                                                                                                                                     ...  \n",
      "../data/training_data/IT018/IT018-00000014714275053300-0200.png     197 10 551 3 596 11 946 10 996 11 1046 5 1303 7 1346 11 1395 13 1445 7 1656 7 1701 11 1745 12 1795 13 1844 11 1891 6 2055 9 2101 12 2145 13 2195 13 2243 13 2291 8 2454 13 2501 13 2545 13 2595 13 2643 14 2690 11 2854 13 2901 13 2945 13 2995 13 3043 14 3090 11 3253 15 3300 15 3345 14 3395 13 3443 15 3489 13 3653 16 3700 15 3744 15 3795 13 3843 15 3889 13 4053 16 4100 15 4144 14 4194 14 4243 15 4289 13 4453 16 4500 15 4544 14 4594 14 4643 15 4689 14 4739 3 4743 1 4852 17 4900 16 4944 15 4995 13 5042 17 5089 14 5137 10 5252 18 5299 17 5344 15 5395 13 5442 17 5489 15 5537 11 5652 18 5699 17 574...  \n",
      "../data/training_data/IT018/IT018-00000014724276049600-0200.png     197 10 549 1 552 3 596 11 947 9 996 12 1046 5 1303 7 1346 10 1395 13 1445 9 1655 8 1701 11 1745 13 1795 12 1844 12 1889 8 2055 9 2100 13 2145 13 2195 13 2243 14 2288 11 2454 12 2500 13 2545 13 2595 13 2643 14 2688 13 2854 13 2900 13 2945 14 2995 13 3043 14 3088 13 3253 15 3300 14 3345 14 3395 13 3443 15 3488 14 3653 15 3699 15 3745 14 3795 13 3842 16 3888 14 4053 15 4099 15 4145 14 4195 13 4242 16 4287 15 4452 17 4499 16 4545 14 4595 13 4642 17 4687 16 4740 1 4852 17 4899 16 4945 14 4995 13 5042 17 5087 16 5137 10 5252 17 5299 16 5345 14 5395 13 5442 17 5487 16 5537 11 5652 17 5699 16 5744...  \n",
      "../data/training_data/IT018/IT018-00000014726276248800-0200(1).png  198 9 551 4 597 11 948 9 997 11 1048 1 1305 5 1347 11 1396 12 1447 5 1453 1 1656 7 1703 9 1747 11 1796 12 1845 10 1891 7 2055 9 2102 11 2147 12 2196 12 2244 13 2291 9 2455 11 2502 12 2546 14 2596 12 2644 13 2691 10 2854 13 2902 12 2946 14 2996 12 3044 14 3090 11 3254 15 3301 14 3346 14 3396 13 3444 15 3489 13 3653 16 3701 14 3746 14 3796 13 3843 16 3889 14 4053 16 4101 14 4146 14 4196 13 4243 16 4289 14 4340 5 4453 16 4501 15 4546 14 4596 13 4643 16 4689 14 4739 7 4853 17 4901 15 4946 14 4996 13 5043 17 5089 15 5137 11 5253 17 5301 15 5346 14 5396 13 5443 17 5489 15 5537 12 5653 18 5700 16...  \n",
      "../data/training_data/IT018/IT018-00000014726276248800-0200.png     198 9 551 4 597 11 948 9 997 11 1048 1 1305 5 1347 11 1396 12 1447 5 1453 1 1656 7 1703 9 1747 11 1796 12 1845 10 1891 7 2055 9 2102 11 2147 12 2196 12 2244 13 2291 9 2455 11 2502 12 2546 14 2596 12 2644 13 2691 10 2854 13 2902 12 2946 14 2996 12 3044 14 3090 11 3254 15 3301 14 3346 14 3396 13 3444 15 3489 13 3653 16 3701 14 3746 14 3796 13 3843 16 3889 14 4053 16 4101 14 4146 14 4196 13 4243 16 4289 14 4340 5 4453 16 4501 15 4546 14 4596 13 4643 16 4689 14 4739 7 4853 17 4901 15 4946 14 4996 13 5043 17 5089 15 5137 11 5253 17 5301 15 5346 14 5396 13 5443 17 5489 15 5537 12 5653 18 5700 16...  \n",
      "../data/training_data/IT018/IT018-00000014734277045800-0200.png     197 10 550 4 597 10 946 10 996 11 1047 4 1304 6 1346 10 1395 12 1446 8 1495 1 1657 4 1703 9 1745 12 1795 12 1844 11 1890 10 2056 8 2102 11 2145 13 2195 13 2244 12 2290 11 2455 11 2501 12 2545 13 2595 13 2644 13 2689 12 2854 13 2901 13 2945 14 2995 13 3044 13 3089 13 3253 15 3301 14 3345 14 3395 13 3443 15 3489 13 3653 16 3700 15 3745 14 3795 13 3843 15 3889 14 4053 16 4100 15 4145 14 4195 13 4243 15 4289 14 4339 6 4453 16 4500 16 4544 14 4595 13 4643 15 4689 14 4739 7 4852 18 4900 16 4944 15 4994 14 5043 15 5089 14 5137 11 5252 18 5300 16 5344 15 5394 14 5443 15 5489 14 5537 11 5652 19 570...  \n",
      "\n",
      "[12378 rows x 2 columns]\n",
      "Found 12378 items\n",
      "2 datasets of sizes 11141,1237\n",
      "Setting up Pipeline: partial\n",
      "Setting up Pipeline: partial\n",
      "Setting up after_item: Pipeline: AddMaskCodes -> ToTensor\n",
      "Setting up before_batch: Pipeline: \n",
      "Setting up after_batch: Pipeline: \n",
      "\n",
      "Building one batch\n",
      "Applying item_tfms to the first sample:\n",
      "  Pipeline: AddMaskCodes -> ToTensor\n",
      "    starting from\n",
      "      (RHEEDTensorImage of size 3x200x400, RHEEDTensorMask of size 2x200x400)\n",
      "    applying AddMaskCodes gives\n",
      "      (RHEEDTensorImage of size 3x200x400, RHEEDTensorMask of size 2x200x400)\n",
      "    applying ToTensor gives\n",
      "      (RHEEDTensorImage of size 3x200x400, RHEEDTensorMask of size 2x200x400)\n",
      "\n",
      "Adding the next 3 samples\n",
      "\n",
      "No before_batch transform to apply\n",
      "\n",
      "Collating items in a batch\n",
      "\n",
      "No batch_tfms to apply\n"
     ]
    }
   ],
   "source": [
    "db.summary(source=df)"
   ]
  },
  {
   "cell_type": "code",
   "execution_count": 96,
   "metadata": {},
   "outputs": [],
   "source": [
    "ds = db.datasets(source=df)"
   ]
  },
  {
   "cell_type": "code",
   "execution_count": 97,
   "metadata": {},
   "outputs": [
    {
     "data": {
      "text/plain": [
       "<AxesSubplot:>"
      ]
     },
     "execution_count": 97,
     "metadata": {},
     "output_type": "execute_result"
    },
    {
     "data": {
      "image/png": "[encoded data removed]",
      "text/plain": [
       "<Figure size 720x360 with 2 Axes>"
      ]
     },
     "metadata": {
      "needs_background": "light"
     },
     "output_type": "display_data"
    }
   ],
   "source": [
    "idx = 1\n",
    "img = ds.train[idx][0]\n",
    "msk = ds.train[idx][1]\n",
    "\n",
    "_, ax = plt.subplots(1, 2, figsize=(10, 5))\n",
    "img.show(ctx=ax[0])\n",
    "msk.show(ctx=ax[1])"
   ]
  },
  {
   "cell_type": "code",
   "execution_count": 98,
   "metadata": {},
   "outputs": [],
   "source": [
    "dls = ds.dataloaders(bs=4, num_workers=4)"
   ]
  },
  {
   "cell_type": "code",
   "execution_count": 99,
   "metadata": {},
   "outputs": [
    {
     "data": {
      "image/png": "[encoded data removed]",
      "text/plain": [
       "<Figure size 720x720 with 4 Axes>"
      ]
     },
     "metadata": {
      "needs_background": "light"
     },
     "output_type": "display_data"
    }
   ],
   "source": [
    "dls.show_batch(figsize=(10,10))"
   ]
  },
  {
   "cell_type": "code",
   "execution_count": 105,
   "metadata": {},
   "outputs": [
    {
     "data": {
      "text/plain": [
       "(rhana.labeler.unet.RHEEDTensorImage, rhana.labeler.unet.RHEEDTensorMask)"
      ]
     },
     "execution_count": 105,
     "metadata": {},
     "output_type": "execute_result"
    }
   ],
   "source": [
    "x, y = dls.one_batch()\n",
    "type(x), type(y)"
   ]
  },
  {
   "cell_type": "code",
   "execution_count": 111,
   "metadata": {},
   "outputs": [
    {
     "data": {
      "text/plain": [
       "0.9254902"
      ]
     },
     "execution_count": 111,
     "metadata": {},
     "output_type": "execute_result"
    }
   ],
   "source": [
    "np.array(x.detach().cpu()).max()"
   ]
  },
  {
   "cell_type": "code",
   "execution_count": 112,
   "metadata": {},
   "outputs": [],
   "source": [
    "# uncomment this line if you want to check your gpu usage\n",
    "# !nvidia-smi"
   ]
  },
  {
   "cell_type": "code",
   "execution_count": 113,
   "metadata": {},
   "outputs": [],
   "source": [
    "learn = unet_learner(dls, resnet18, loss_func=BCEWithLogitsLossFlat(), n_out=len(df.columns), metrics=[dice_metric])"
   ]
  },
  {
   "cell_type": "code",
   "execution_count": 114,
   "metadata": {},
   "outputs": [
    {
     "data": {
      "text/html": [
       "\n",
       "<style>\n",
       "    /* Turns off some styling */\n",
       "    progress {\n",
       "        /* gets rid of default border in Firefox and Opera. */\n",
       "        border: none;\n",
       "        /* Needs to be in here for Safari polyfill so background images work as expected. */\n",
       "        background-size: auto;\n",
       "    }\n",
       "    .progress-bar-interrupted, .progress-bar-interrupted::-webkit-progress-bar {\n",
       "        background: #F44336;\n",
       "    }\n",
       "</style>\n"
      ],
      "text/plain": [
       "<IPython.core.display.HTML object>"
      ]
     },
     "metadata": {},
     "output_type": "display_data"
    },
    {
     "data": {
      "text/html": [
       "<table border=\"1\" class=\"dataframe\">\n",
       "  <thead>\n",
       "    <tr style=\"text-align: left;\">\n",
       "      <th>epoch</th>\n",
       "      <th>train_loss</th>\n",
       "      <th>valid_loss</th>\n",
       "      <th>dice_metric</th>\n",
       "      <th>time</th>\n",
       "    </tr>\n",
       "  </thead>\n",
       "  <tbody>\n",
       "    <tr>\n",
       "      <td>0</td>\n",
       "      <td>0.010483</td>\n",
       "      <td>0.009101</td>\n",
       "      <td>0.950952</td>\n",
       "      <td>06:18</td>\n",
       "    </tr>\n",
       "  </tbody>\n",
       "</table>"
      ],
      "text/plain": [
       "<IPython.core.display.HTML object>"
      ]
     },
     "metadata": {},
     "output_type": "display_data"
    },
    {
     "data": {
      "text/html": [
       "\n",
       "<style>\n",
       "    /* Turns off some styling */\n",
       "    progress {\n",
       "        /* gets rid of default border in Firefox and Opera. */\n",
       "        border: none;\n",
       "        /* Needs to be in here for Safari polyfill so background images work as expected. */\n",
       "        background-size: auto;\n",
       "    }\n",
       "    .progress-bar-interrupted, .progress-bar-interrupted::-webkit-progress-bar {\n",
       "        background: #F44336;\n",
       "    }\n",
       "</style>\n"
      ],
      "text/plain": [
       "<IPython.core.display.HTML object>"
      ]
     },
     "metadata": {},
     "output_type": "display_data"
    },
    {
     "data": {
      "text/html": [
       "<table border=\"1\" class=\"dataframe\">\n",
       "  <thead>\n",
       "    <tr style=\"text-align: left;\">\n",
       "      <th>epoch</th>\n",
       "      <th>train_loss</th>\n",
       "      <th>valid_loss</th>\n",
       "      <th>dice_metric</th>\n",
       "      <th>time</th>\n",
       "    </tr>\n",
       "  </thead>\n",
       "  <tbody>\n",
       "    <tr>\n",
       "      <td>0</td>\n",
       "      <td>0.008024</td>\n",
       "      <td>0.007065</td>\n",
       "      <td>0.962562</td>\n",
       "      <td>06:34</td>\n",
       "    </tr>\n",
       "    <tr>\n",
       "      <td>1</td>\n",
       "      <td>0.007281</td>\n",
       "      <td>0.007271</td>\n",
       "      <td>0.965286</td>\n",
       "      <td>06:34</td>\n",
       "    </tr>\n",
       "    <tr>\n",
       "      <td>2</td>\n",
       "      <td>0.006590</td>\n",
       "      <td>0.005994</td>\n",
       "      <td>0.967661</td>\n",
       "      <td>06:35</td>\n",
       "    </tr>\n",
       "    <tr>\n",
       "      <td>3</td>\n",
       "      <td>0.004939</td>\n",
       "      <td>0.005332</td>\n",
       "      <td>0.972764</td>\n",
       "      <td>06:35</td>\n",
       "    </tr>\n",
       "    <tr>\n",
       "      <td>4</td>\n",
       "      <td>0.004683</td>\n",
       "      <td>0.005120</td>\n",
       "      <td>0.974201</td>\n",
       "      <td>06:35</td>\n",
       "    </tr>\n",
       "  </tbody>\n",
       "</table>"
      ],
      "text/plain": [
       "<IPython.core.display.HTML object>"
      ]
     },
     "metadata": {},
     "output_type": "display_data"
    }
   ],
   "source": [
    "learn.fine_tune(5)"
   ]
  },
  {
   "cell_type": "code",
   "execution_count": 128,
   "metadata": {},
   "outputs": [
    {
     "name": "stdout",
     "output_type": "stream",
     "text": [
      "\u001b[0m\u001b[01;34mdata\u001b[0m/     \u001b[01;34mnotebook\u001b[0m/  requirements.txt  \u001b[01;34mrhana.egg-info\u001b[0m/  \u001b[01;34mtests\u001b[0m/\n",
      "\u001b[01;34mlearner\u001b[0m/  README.md  \u001b[01;34mrhana\u001b[0m/            setup.py\n"
     ]
    }
   ],
   "source": [
    "ls ../"
   ]
  },
  {
   "cell_type": "code",
   "execution_count": 117,
   "metadata": {},
   "outputs": [],
   "source": [
    "learner_folder = Path(\"../learner\")\n",
    "learner_folder.mkdir(exist_ok=True)"
   ]
  },
  {
   "cell_type": "code",
   "execution_count": 118,
   "metadata": {},
   "outputs": [],
   "source": [
    "from datetime import datetime"
   ]
  },
  {
   "cell_type": "code",
   "execution_count": 120,
   "metadata": {},
   "outputs": [
    {
     "data": {
      "text/plain": [
       "Path('../learner/UNet_1605_Apr24_2022.pkl')"
      ]
     },
     "execution_count": 120,
     "metadata": {},
     "output_type": "execute_result"
    }
   ],
   "source": [
    "learn_id = datetime.today().strftime(\"%H%M_%b%d_%Y\")\n",
    "learn_path = learner_folder/f\"UNet_{learn_id}.pkl\"\n",
    "learn_path"
   ]
  },
  {
   "cell_type": "code",
   "execution_count": 121,
   "metadata": {},
   "outputs": [],
   "source": [
    "learn.export(learn_path)"
   ]
  },
  {
   "cell_type": "markdown",
   "metadata": {},
   "source": [
    "# Inference"
   ]
  },
  {
   "cell_type": "markdown",
   "metadata": {},
   "source": [
    "## Single rheed image"
   ]
  },
  {
   "cell_type": "code",
   "execution_count": 122,
   "metadata": {},
   "outputs": [],
   "source": [
    "learner_folder = Path(\"../learner\")"
   ]
  },
  {
   "cell_type": "code",
   "execution_count": 131,
   "metadata": {},
   "outputs": [
    {
     "name": "stdout",
     "output_type": "stream",
     "text": [
      "UNet_1605_Apr24_2022.pkl  UNet_May6_2021_fixed.pkl\n"
     ]
    }
   ],
   "source": [
    "ls ../learner"
   ]
  },
  {
   "cell_type": "code",
   "execution_count": 132,
   "metadata": {},
   "outputs": [],
   "source": [
    "learn = load_learner(learner_folder/\"UNet_May6_2021_fixed.pkl\")"
   ]
  },
  {
   "cell_type": "code",
   "execution_count": 133,
   "metadata": {},
   "outputs": [],
   "source": [
    "additional = [\n",
    "    \"IT020\",\n",
    "    \"IT021\",\n",
    "]"
   ]
  },
  {
   "cell_type": "code",
   "execution_count": 66,
   "metadata": {},
   "outputs": [],
   "source": [
    "!ln -s /home/aurora/RHEED/data/RHEED/ ../data/raw"
   ]
  },
  {
   "cell_type": "code",
   "execution_count": 68,
   "metadata": {},
   "outputs": [
    {
     "name": "stdout",
     "output_type": "stream",
     "text": [
      " after-depo   IT011   IT020-RHEED.zip   IT025\t\t  IT030-RHEED.zip\n",
      " IT003\t      IT012   IT021\t        IT025-RHEED.zip   JPG\n",
      " IT004\t      IT013   IT021-RHEED.zip   IT027\t\t  maskIT005.pcd\n",
      " IT005\t      IT014   IT022\t        IT027-RHEED.zip   maskIT005.png\n",
      " IT006\t      IT015   IT022-RHEED.zip   IT028\t\t  mask.png\n",
      " IT007\t      IT016   IT023\t        IT028-RHEED.zip  'power point document'\n",
      " IT008\t      IT017   IT023-RHEED.zip   IT029\t\t  VI\n",
      " IT009\t      IT018   IT024\t        IT029-RHEED.zip\n",
      " IT010\t      IT020   IT024-RHEED.zip   IT030\n"
     ]
    }
   ],
   "source": [
    "!ls ../data/raw"
   ]
  },
  {
   "cell_type": "code",
   "execution_count": null,
   "metadata": {},
   "outputs": [],
   "source": [
    "# from rhana.pattern import Rheed"
   ]
  },
  {
   "cell_type": "code",
   "execution_count": 134,
   "metadata": {},
   "outputs": [
    {
     "ename": "FileNotFoundError",
     "evalue": "[Errno 2] No such file or directory: '../data/raw/IT020'",
     "output_type": "error",
     "traceback": [
      "\u001b[0;31m---------------------------------------------------------------------------\u001b[0m",
      "\u001b[0;31mFileNotFoundError\u001b[0m                         Traceback (most recent call last)",
      "\u001b[0;32m/tmp/ipykernel_101220/3458857730.py\u001b[0m in \u001b[0;36m<module>\u001b[0;34m\u001b[0m\n\u001b[1;32m      1\u001b[0m \u001b[0mIT020\u001b[0m \u001b[0;34m=\u001b[0m \u001b[0mPath\u001b[0m\u001b[0;34m(\u001b[0m\u001b[0;34m\"../data/raw/IT020\"\u001b[0m\u001b[0;34m)\u001b[0m\u001b[0;34m\u001b[0m\u001b[0;34m\u001b[0m\u001b[0m\n\u001b[0;32m----> 2\u001b[0;31m \u001b[0mIT020_files\u001b[0m \u001b[0;34m=\u001b[0m \u001b[0mlist\u001b[0m\u001b[0;34m(\u001b[0m\u001b[0mIT020\u001b[0m\u001b[0;34m.\u001b[0m\u001b[0miterdir\u001b[0m\u001b[0;34m(\u001b[0m\u001b[0;34m)\u001b[0m\u001b[0;34m)\u001b[0m\u001b[0;34m\u001b[0m\u001b[0;34m\u001b[0m\u001b[0m\n\u001b[0m",
      "\u001b[0;32m~/anaconda3/envs/main/lib/python3.9/pathlib.py\u001b[0m in \u001b[0;36miterdir\u001b[0;34m(self)\u001b[0m\n\u001b[1;32m   1158\u001b[0m         \u001b[0mresult\u001b[0m \u001b[0;32mfor\u001b[0m \u001b[0mthe\u001b[0m \u001b[0mspecial\u001b[0m \u001b[0mpaths\u001b[0m \u001b[0;34m'.'\u001b[0m \u001b[0;32mand\u001b[0m \u001b[0;34m'..'\u001b[0m\u001b[0;34m.\u001b[0m\u001b[0;34m\u001b[0m\u001b[0;34m\u001b[0m\u001b[0m\n\u001b[1;32m   1159\u001b[0m         \"\"\"\n\u001b[0;32m-> 1160\u001b[0;31m         \u001b[0;32mfor\u001b[0m \u001b[0mname\u001b[0m \u001b[0;32min\u001b[0m \u001b[0mself\u001b[0m\u001b[0;34m.\u001b[0m\u001b[0m_accessor\u001b[0m\u001b[0;34m.\u001b[0m\u001b[0mlistdir\u001b[0m\u001b[0;34m(\u001b[0m\u001b[0mself\u001b[0m\u001b[0;34m)\u001b[0m\u001b[0;34m:\u001b[0m\u001b[0;34m\u001b[0m\u001b[0;34m\u001b[0m\u001b[0m\n\u001b[0m\u001b[1;32m   1161\u001b[0m             \u001b[0;32mif\u001b[0m \u001b[0mname\u001b[0m \u001b[0;32min\u001b[0m \u001b[0;34m{\u001b[0m\u001b[0;34m'.'\u001b[0m\u001b[0;34m,\u001b[0m \u001b[0;34m'..'\u001b[0m\u001b[0;34m}\u001b[0m\u001b[0;34m:\u001b[0m\u001b[0;34m\u001b[0m\u001b[0;34m\u001b[0m\u001b[0m\n\u001b[1;32m   1162\u001b[0m                 \u001b[0;31m# Yielding a path object for these makes little sense\u001b[0m\u001b[0;34m\u001b[0m\u001b[0;34m\u001b[0m\u001b[0m\n",
      "\u001b[0;31mFileNotFoundError\u001b[0m: [Errno 2] No such file or directory: '../data/raw/IT020'"
     ]
    }
   ],
   "source": [
    "IT020 = Path(\"../data/raw/IT020\") \n",
    "IT020_files = list(IT020.iterdir())"
   ]
  },
  {
   "cell_type": "code",
   "execution_count": 29,
   "metadata": {},
   "outputs": [],
   "source": [
    "sample_file = IT020_files[0]"
   ]
  },
  {
   "cell_type": "code",
   "execution_count": 30,
   "metadata": {},
   "outputs": [],
   "source": [
    "rd = Rheed.from_kashiwa(sample_file)"
   ]
  },
  {
   "cell_type": "code",
   "execution_count": 31,
   "metadata": {},
   "outputs": [
    {
     "data": {
      "text/plain": [
       "(<Figure size 432x288 with 1 Axes>, <AxesSubplot:>)"
      ]
     },
     "execution_count": 31,
     "metadata": {},
     "output_type": "execute_result"
    },
    {
     "data": {
      "image/png": "[encoded data removed]",
      "text/plain": [
       "<Figure size 432x288 with 1 Axes>"
      ]
     },
     "metadata": {
      "needs_background": "light"
     },
     "output_type": "display_data"
    }
   ],
   "source": [
    "rd.plot_pattern()"
   ]
  },
  {
   "cell_type": "code",
   "execution_count": 32,
   "metadata": {},
   "outputs": [],
   "source": [
    "proc_rd = rd.mean_clip(inplace=False).min_max_scale(inplace=False)"
   ]
  },
  {
   "cell_type": "code",
   "execution_count": 33,
   "metadata": {},
   "outputs": [],
   "source": [
    "item = RHEEDTensorImage.create(np.tile(proc_rd.pattern, (3, 1, 1)))"
   ]
  },
  {
   "cell_type": "code",
   "execution_count": 34,
   "metadata": {},
   "outputs": [
    {
     "data": {
      "image/png": "[encoded data removed]",
      "text/plain": [
       "<Figure size 432x288 with 1 Axes>"
      ]
     },
     "metadata": {
      "needs_background": "light"
     },
     "output_type": "display_data"
    }
   ],
   "source": [
    "item.show()"
   ]
  },
  {
   "cell_type": "code",
   "execution_count": 35,
   "metadata": {},
   "outputs": [
    {
     "data": {
      "text/html": [],
      "text/plain": [
       "<IPython.core.display.HTML object>"
      ]
     },
     "metadata": {},
     "output_type": "display_data"
    }
   ],
   "source": [
    "result = learn.predict(item)"
   ]
  },
  {
   "cell_type": "code",
   "execution_count": 36,
   "metadata": {},
   "outputs": [],
   "source": [
    "a,b,c = result"
   ]
  },
  {
   "cell_type": "code",
   "execution_count": 37,
   "metadata": {},
   "outputs": [
    {
     "data": {
      "image/png": "[encoded data removed]",
      "text/plain": [
       "<Figure size 432x288 with 1 Axes>"
      ]
     },
     "metadata": {
      "needs_background": "light"
     },
     "output_type": "display_data"
    }
   ],
   "source": [
    "a.show(chn=1)"
   ]
  },
  {
   "cell_type": "code",
   "execution_count": 63,
   "metadata": {},
   "outputs": [
    {
     "data": {
      "image/png": "[encoded data removed]",
      "text/plain": [
       "<Figure size 432x288 with 1 Axes>"
      ]
     },
     "metadata": {
      "needs_background": "light"
     },
     "output_type": "display_data"
    }
   ],
   "source": [
    "b.show()"
   ]
  },
  {
   "cell_type": "code",
   "execution_count": 38,
   "metadata": {},
   "outputs": [
    {
     "data": {
      "image/png": "[encoded data removed]",
      "text/plain": [
       "<Figure size 432x288 with 1 Axes>"
      ]
     },
     "metadata": {
      "needs_background": "light"
     },
     "output_type": "display_data"
    }
   ],
   "source": [
    "c.show()"
   ]
  },
  {
   "cell_type": "markdown",
   "metadata": {},
   "source": [
    "## Inference with dataloader"
   ]
  },
  {
   "cell_type": "code",
   "execution_count": null,
   "metadata": {},
   "outputs": [],
   "source": [
    "dls.test_dl() # add test dataloader"
   ]
  }
 ],
 "metadata": {
  "kernelspec": {
   "display_name": "Python 3 (ipykernel)",
   "language": "python",
   "name": "python3"
  },
  "language_info": {
   "codemirror_mode": {
    "name": "ipython",
    "version": 3
   },
   "file_extension": ".py",
   "mimetype": "text/x-python",
   "name": "python",
   "nbconvert_exporter": "python",
   "pygments_lexer": "ipython3",
   "version": "3.9.7"
  },
  "toc": {
   "base_numbering": 1,
   "nav_menu": {},
   "number_sections": true,
   "sideBar": true,
   "skip_h1_title": false,
   "title_cell": "Table of Contents",
   "title_sidebar": "Contents",
   "toc_cell": false,
   "toc_position": {},
   "toc_section_display": true,
   "toc_window_display": false
  }
 },
 "nbformat": 4,
 "nbformat_minor": 4
}
